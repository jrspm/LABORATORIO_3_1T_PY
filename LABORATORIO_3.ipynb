{
 "cells": [
  {
   "attachments": {},
   "cell_type": "markdown",
   "metadata": {},
   "source": [
    "# Laboratorio: Análisis de Datos con Python\n"
   ]
  },
  {
   "attachments": {},
   "cell_type": "markdown",
   "metadata": {},
   "source": [
    "## Parte 1: Numpy:"
   ]
  },
  {
   "cell_type": "code",
   "execution_count": 242,
   "metadata": {},
   "outputs": [],
   "source": [
    "import numpy as np\n",
    "import random\n",
    "import matplotlib.pyplot as plt"
   ]
  },
  {
   "attachments": {},
   "cell_type": "markdown",
   "metadata": {},
   "source": [
    "### PROBLEMA NO.1\n",
    "¿Cuál es el tamaño en bytes de un array de 1000\n",
    "elementos de tipo booleano?\n"
   ]
  },
  {
   "cell_type": "code",
   "execution_count": 243,
   "metadata": {},
   "outputs": [
    {
     "name": "stdout",
     "output_type": "stream",
     "text": [
      "El tamaño del array es de 1000 bytes\n"
     ]
    }
   ],
   "source": [
    "\n",
    "\n",
    "list=[]\n",
    "\n",
    "list_=[True,False]\n",
    "\n",
    "for i in range(1000):\n",
    "\n",
    "    val_1=random.choice(list_)\n",
    "\n",
    "    list.append(val_1)\n",
    "\n",
    "array_bool=np.array(list)\n",
    "\n",
    "print(f\"El tamaño del array es de {array_bool.nbytes} bytes\")\n",
    "\n",
    "\n"
   ]
  },
  {
   "attachments": {},
   "cell_type": "markdown",
   "metadata": {},
   "source": [
    "### PROBLEMA NO.2\n",
    "\n",
    "\n",
    "Cree un array cuyos elementos sean los enteros pares en\n",
    "[1,100] y en orden decreciente. Muestre los 10 últimos\n",
    "por pantalla."
   ]
  },
  {
   "cell_type": "code",
   "execution_count": 244,
   "metadata": {},
   "outputs": [
    {
     "data": {
      "text/plain": [
       "array([ 991,  992,  993,  994,  995,  996,  997,  998,  999, 1000])"
      ]
     },
     "execution_count": 244,
     "metadata": {},
     "output_type": "execute_result"
    }
   ],
   "source": [
    "list_ej2=[]\n",
    "\n",
    "for i in range(1,1001):\n",
    "\n",
    "    list_ej2.append(i)\n",
    "\n",
    "array_list=np.array(list_ej2)\n",
    "\n",
    "array_list[-10:]"
   ]
  },
  {
   "attachments": {},
   "cell_type": "markdown",
   "metadata": {},
   "source": [
    "### PROBLEMA NO.3\n",
    "\n",
    "Dado el array\n",
    "\n",
    "\n",
    "2 4 5 6\n",
    "\n",
    "0 3 7 4\n",
    "\n",
    "8 8 5 2\n",
    "\n",
    "1 5 6 1\n",
    "\n",
    "Seleccione con una instrucción el subarray de elementos\n",
    "\n",
    "0 3 7 4\n",
    "\n",
    "Después, seleccione el subarray de elementos\n",
    "\n",
    "2 5\n",
    "\n",
    "8 5\n"
   ]
  },
  {
   "cell_type": "code",
   "execution_count": 245,
   "metadata": {},
   "outputs": [
    {
     "name": "stdout",
     "output_type": "stream",
     "text": [
      "[[2 4 5 6]\n",
      " [0 3 7 4]\n",
      " [8 8 5 2]\n",
      " [1 5 6 1]]\n",
      "\n",
      "\n",
      "[0 3 7 4]\n",
      "\n",
      "\n",
      "[[2 5]\n",
      " [8 5]]\n"
     ]
    }
   ],
   "source": [
    "array_ej3=np.array([[2,4,5,6],[0,3,7,4],[8,8,5,2],[1,5,6,1]])\n",
    "\n",
    "print(array_ej3)\n",
    "\n",
    "print(\"\\n\")\n",
    "\n",
    "print(array_ej3[1,:])\n",
    "\n",
    "print(\"\\n\")\n",
    "\n",
    "array_1=array_ej3[[0,2],:][:,[0,2]]\n",
    "\n",
    "print(array_1)\n"
   ]
  },
  {
   "attachments": {},
   "cell_type": "markdown",
   "metadata": {},
   "source": [
    "### PROBLEMA NO.4\n",
    "\n",
    "Dados los arrays a = [1, 4, 2, 7] y b = [1, 3, 2, 9],\n",
    "obtenga la media aritmética de la diferencia (a-b).\n",
    "\n",
    "\n"
   ]
  },
  {
   "cell_type": "code",
   "execution_count": 246,
   "metadata": {},
   "outputs": [
    {
     "name": "stdout",
     "output_type": "stream",
     "text": [
      "[ 0  1  0 -2]\n",
      "-0.25\n"
     ]
    }
   ],
   "source": [
    "a=np.array([1,4,2,7])\n",
    "b=np.array([1,3,2,9])\n",
    "\n",
    "c=a-b\n",
    "print(c)\n",
    "\n",
    "media_=np.mean(c, axis=None, dtype=float)\n",
    "\n",
    "print(media_)"
   ]
  },
  {
   "attachments": {},
   "cell_type": "markdown",
   "metadata": {},
   "source": [
    "### PROBLEMA NO.5\n",
    "\n",
    "\n",
    "Tengo valores de cordenadas (x, y) en las columna del array\n",
    "\n",
    "1.33 4.5\n",
    "\n",
    "30.0 10.7\n",
    "\n",
    "70.2 0.5\n",
    "\n",
    "Agregue a este array las coordenadas (37.1, -3.6).\n",
    "\n",
    "Muestre en pantalla las dimensiones del nuevo\n",
    "array."
   ]
  },
  {
   "cell_type": "code",
   "execution_count": 247,
   "metadata": {},
   "outputs": [
    {
     "name": "stdout",
     "output_type": "stream",
     "text": [
      "[[37.1  -3.6 ]\n",
      " [ 1.33  4.5 ]\n",
      " [30.   10.7 ]\n",
      " [70.2   0.5 ]]\n",
      "\n",
      "\n",
      "(3, 2)\n"
     ]
    }
   ],
   "source": [
    "array_1=np.array([[1.33,4.5],[30,10.7],[70.2,0.5]])\n",
    "\n",
    "row = np.array([37.1,-3.6])\n",
    "row_n = 0 ##row\n",
    "arr = np.insert(array_1,row_n,[row],axis= 0)\n",
    "\n",
    "print(arr)\n",
    "\n",
    "dim_=np.shape(array_1)\n",
    "print(\"\\n\")\n",
    "\n",
    "print(dim_)\n"
   ]
  },
  {
   "attachments": {},
   "cell_type": "markdown",
   "metadata": {},
   "source": [
    "\n",
    "### PROBLEMA NO.6\n",
    "\n",
    "Copie el array del ejercicio anterior. Traspóngalo (.\n",
    "Agregue ahora dos nuevos pares de coordenadas: (10.8,\n",
    "3.0) y (35.8, 12.0)"
   ]
  },
  {
   "cell_type": "code",
   "execution_count": 248,
   "metadata": {},
   "outputs": [
    {
     "name": "stdout",
     "output_type": "stream",
     "text": [
      "[[37.1   1.33 30.   70.2 ]\n",
      " [-3.6   4.5  10.7   0.5 ]]\n",
      "\n",
      "\n",
      "[[37.1   1.33 30.   70.2  35.8  10.8 ]\n",
      " [-3.6   4.5  10.7   0.5  12.    3.  ]]\n"
     ]
    }
   ],
   "source": [
    "\n",
    "trans_=np.transpose(arr)\n",
    "print(trans_)\n",
    "print(\"\\n\")\n",
    "\n",
    "column_1 = np.array([10.8,3.0])\n",
    "column_n = arr.shape[1]+2 # la ultima columna\n",
    "trans_= np.insert(trans_,column_n,[column_1],axis= 1)\n",
    "\n",
    "column_2 = np.array([35.8,12.0])\n",
    "column_n = arr.shape[1]+2 # la ultima columna\n",
    "trans_ = np.insert(trans_,column_n,[column_2],axis= 1)\n",
    "\n",
    "print(trans_)"
   ]
  },
  {
   "attachments": {},
   "cell_type": "markdown",
   "metadata": {},
   "source": [
    "## Parte 2: Exploración y Minería de Datos:\n",
    "\n",
    "Con el dataset nucleospoblacion.csv adjunto al laboratorio,\n",
    "luego responda las siguientes preguntas usando pandas y\n",
    "matplotlib."
   ]
  },
  {
   "cell_type": "code",
   "execution_count": 249,
   "metadata": {},
   "outputs": [],
   "source": [
    "import numpy as np\n",
    "import random\n",
    "import pandas as pd"
   ]
  },
  {
   "cell_type": "code",
   "execution_count": 250,
   "metadata": {},
   "outputs": [
    {
     "name": "stdout",
     "output_type": "stream",
     "text": [
      "     FID  OBJECTID                           Texto  Poblacion  CodMun  \\\n",
      "0      0         1                         Agüimes    29431.0   35002   \n",
      "1      1         2                         Antigua    10458.0   35003   \n",
      "2      2         3                        Arrecife    58156.0   35004   \n",
      "3      3         4                          Arucas    36745.0   35006   \n",
      "4      4         5                          Gáldar    24473.0   35009   \n",
      "..   ...       ...                             ...        ...     ...   \n",
      "847  847       848             Infante Juan Manuel    14192.0   30030   \n",
      "848  848       849           Santa Maria de Gracia    13349.0   30030   \n",
      "849  849       850                    Vista Alegre    15208.0   30030   \n",
      "850  850       851  Poligono Sta M de Benquerencia    19177.0   45168   \n",
      "851  851       852                            Grao    16367.0   12040   \n",
      "\n",
      "                                      Municipio  CodProvin  \\\n",
      "0                                       Agüimes         35   \n",
      "1                                       Antigua         35   \n",
      "2                                      Arrecife         35   \n",
      "3                                        Arucas         35   \n",
      "4                                        Gáldar         35   \n",
      "..                                          ...        ...   \n",
      "847                                      Murcia         30   \n",
      "848                                      Murcia         30   \n",
      "849                                      Murcia         30   \n",
      "850                                      Toledo         45   \n",
      "851  Castellón de la Plana/Castelló de la Plana         12   \n",
      "\n",
      "              Provincia          X          Y  \n",
      "0            Las Palmas -15.446012  27.900542  \n",
      "1            Las Palmas -14.013301  28.418966  \n",
      "2            Las Palmas -13.551451  28.960649  \n",
      "3            Las Palmas -15.521512  28.117496  \n",
      "4            Las Palmas -15.654111  28.143873  \n",
      "..                  ...        ...        ...  \n",
      "847              Murcia  -1.124304  37.979033  \n",
      "848              Murcia  -1.202069  37.984024  \n",
      "849              Murcia  -1.130564  37.995715  \n",
      "850              Toledo  -3.948364  39.866699  \n",
      "851  Castelló/Castellón   0.012911  39.973568  \n",
      "\n",
      "[852 rows x 10 columns]\n"
     ]
    }
   ],
   "source": [
    "df = pd.read_csv ('NucleosPoblacion.csv')\n",
    "print(df)"
   ]
  },
  {
   "attachments": {},
   "cell_type": "markdown",
   "metadata": {},
   "source": [
    "### EJERCICIO No.1 \n",
    "\n",
    "¿Cuántos Municipios tienen más de 100000 habitantes?."
   ]
  },
  {
   "cell_type": "code",
   "execution_count": 251,
   "metadata": {},
   "outputs": [
    {
     "name": "stdout",
     "output_type": "stream",
     "text": [
      "                   FID  OBJECTID  Poblacion  CodMun  CodProvin         X  \\\n",
      "Municipio                                                                  \n",
      "A Coruña            67        68   246047.0   15030         15 -8.391149   \n",
      "Alacant/Alicante   160       161   334418.0    3014          3 -0.483183   \n",
      "Albacete           171       172   170475.0    2003          2 -1.855747   \n",
      "Alcalá de Henares  335       336   204120.0   28005         28 -3.369251   \n",
      "Alcobendas         336       337   110080.0   28006         28 -3.632402   \n",
      "\n",
      "                           Y  \n",
      "Municipio                     \n",
      "A Coruña           43.370126  \n",
      "Alacant/Alicante   38.345487  \n",
      "Albacete           38.995881  \n",
      "Alcalá de Henares  40.480332  \n",
      "Alcobendas         40.541042  \n",
      "hay 62 municipios que tienen mas de 100000 habitantes\n"
     ]
    }
   ],
   "source": [
    "df_1 = df[df['Poblacion'] > 100000]\n",
    "df_1=df_1.groupby(by=[\"Municipio\"]).sum()\n",
    "\n",
    "print(df_1.head())\n",
    "\n",
    "print(f\"hay {df_1.shape[0]} municipios que tienen mas de 100000 habitantes\")\n"
   ]
  },
  {
   "attachments": {},
   "cell_type": "markdown",
   "metadata": {},
   "source": [
    "### EJERCICIO No.2 \n",
    "\n",
    "Realice una gráfica de barras sobre la población de cada ciudad, ordenela de menor a mayo y responda:\n",
    "\n",
    "\n",
    "a. ¿Cuál es la segunda ciudad más poblada?\n",
    "\n",
    "\n",
    "b. ¿Qué posición ocupa Granada en el ranking de las ciudades más pobladas?"
   ]
  },
  {
   "cell_type": "code",
   "execution_count": 252,
   "metadata": {},
   "outputs": [
    {
     "name": "stdout",
     "output_type": "stream",
     "text": [
      "                Poblacion\n",
      "Municipio                \n",
      "Zumarraga         10037.0\n",
      "Caldas de Reis    10045.0\n",
      "Amurrio           10050.0\n",
      "Premià de Dalt    10064.0\n",
      "Buñol             10077.0\n",
      "...                   ...\n",
      "Zaragoza         675121.0\n",
      "Sevilla          704198.0\n",
      "Valencia         823595.0\n",
      "Barcelona       1619337.0\n",
      "Madrid          3273049.0\n",
      "\n",
      "[751 rows x 1 columns]\n"
     ]
    },
    {
     "data": {
      "image/png": "[encoded data removed]",
      "text/plain": [
       "<Figure size 640x480 with 1 Axes>"
      ]
     },
     "metadata": {},
     "output_type": "display_data"
    },
    {
     "name": "stdout",
     "output_type": "stream",
     "text": [
      "La segunda ciudad más poblada es:\n",
      "           Poblacion\n",
      "Municipio           \n",
      "Barcelona  1619337.0\n",
      "\n",
      "\n",
      "La población de Granada es:\n",
      "    Población Municipio\n",
      "19   239154.0   Granada\n"
     ]
    }
   ],
   "source": [
    "df_2 = df[[\"Poblacion\",\"Municipio\"]]\n",
    "df_2=df_2.groupby(by=[\"Municipio\"]).sum()\n",
    "df_2 = df_2.sort_values('Poblacion',ascending=False)\n",
    "df_3 = df_2.sort_values('Poblacion',ascending=True)\n",
    "df_3.head()\n",
    "\n",
    "\n",
    "print(df_3)\n",
    "array_values=np.array(df_2.values.tolist())\n",
    "list_values=np.reshape(array_values,-1).tolist()\n",
    "list_mun=df_2.index.values.tolist()\n",
    "\n",
    "array_1=np.array(list_values)\n",
    "array_1=np.reshape(array_1,(-1,1))\n",
    "pf2= pd.DataFrame(array_1,columns=[\"Población\"])\n",
    "pf2['Municipio']=list_mun\n",
    "\n",
    "#print(pf2)\n",
    "\n",
    "\n",
    "plt.xlabel('Municipio', fontsize=10)\n",
    "plt.bar(list_mun,list_values)\n",
    "plt.xticks(rotation = 90, fontsize=1)\n",
    "plt.show()\n",
    "\n",
    "\n",
    "#df_resumen = pd.DataFrame(datos, columns=columnas, index=filas)\n",
    "\n",
    "\n",
    "\n",
    "print(\"La segunda ciudad más poblada es:\")\n",
    "print(df_3.loc[df_3.index[-2:-1]])\n",
    "print(\"\\n\")\n",
    "print(\"La población de Granada es:\")\n",
    "print(pf2.loc[pf2.loc[:, 'Municipio'] == 'Granada'])\n"
   ]
  },
  {
   "attachments": {},
   "cell_type": "markdown",
   "metadata": {},
   "source": [
    "### EJERCICIO No.3 \n",
    "\n",
    "\n",
    "¿Cuántos municipios de Extremadura tienen más de 5000\n",
    "habitantes?."
   ]
  },
  {
   "cell_type": "code",
   "execution_count": 253,
   "metadata": {},
   "outputs": [
    {
     "name": "stdout",
     "output_type": "stream",
     "text": [
      "hay 751 municipios que tienen mas de 5000 habitantes\n"
     ]
    }
   ],
   "source": [
    "df_1 = df[df['Poblacion'] > 5000]\n",
    "df_1=df_1.groupby(by=[\"Municipio\"]).sum()\n",
    "\n",
    "#print(df_1.head())\n",
    "\n",
    "print(f\"hay {df_1.shape[0]} municipios que tienen mas de 5000 habitantes\")"
   ]
  },
  {
   "attachments": {},
   "cell_type": "markdown",
   "metadata": {},
   "source": [
    "### EJERCICIO No.4\n",
    "\n",
    "¿Cuál es el municipio situado más al Norte? (Usar el\n",
    "valor de la coordenada \"Y\" que representa la latitud en\n",
    "grados). \n",
    "\n",
    "Proporcione también la provincia a la que\n",
    "pertenece y su población."
   ]
  },
  {
   "cell_type": "code",
   "execution_count": 254,
   "metadata": {},
   "outputs": [
    {
     "name": "stdout",
     "output_type": "stream",
     "text": [
      "    Municipio Provincia  Poblacion\n",
      "104   Viveiro      Lugo    16211.0\n"
     ]
    }
   ],
   "source": [
    "df_1 = df[df['Y'] == df['Y'].max()][[\"Municipio\",\"Provincia\",\"Poblacion\"]]\n",
    "print(df_1.head())\n"
   ]
  },
  {
   "attachments": {},
   "cell_type": "markdown",
   "metadata": {},
   "source": [
    "### EJERCICIO No.5\n",
    "\n",
    "Obtenga la media, mediana, desviación estándar, valor\n",
    "máximo y valor mínimo de la población de los municipios\n",
    "de la provincia de Granada."
   ]
  },
  {
   "cell_type": "code",
   "execution_count": 255,
   "metadata": {},
   "outputs": [
    {
     "name": "stdout",
     "output_type": "stream",
     "text": [
      "           Poblacion\n",
      "count      20.000000\n",
      "mean    30217.850000\n",
      "std     50355.491715\n",
      "min     10386.000000\n",
      "25%     13146.500000\n",
      "50%     17526.000000\n",
      "75%     21739.750000\n",
      "max    239154.000000\n"
     ]
    }
   ],
   "source": [
    "df_1 = df[df['Provincia'] == \"Granada\"][[\"Poblacion\"]]\n",
    "print(df_1.describe())\n"
   ]
  },
  {
   "attachments": {},
   "cell_type": "markdown",
   "metadata": {},
   "source": [
    "\n",
    "### EJERCICIO No.6\n",
    "\n",
    "Realice un histograma con la población de los\n",
    "Municipios para cada una de las provincias."
   ]
  },
  {
   "cell_type": "code",
   "execution_count": 256,
   "metadata": {},
   "outputs": [
    {
     "name": "stdout",
     "output_type": "stream",
     "text": [
      "                        Poblacion\n",
      "Provincia                        \n",
      "Soria                     39838.0\n",
      "Teruel                    51532.0\n",
      "Segovia                   55748.0\n",
      "Ávila                     58245.0\n",
      "Cuenca                    71921.0\n",
      "Melilla                   76034.0\n",
      "Ceuta                     80579.0\n",
      "Palencia                  82169.0\n",
      "Zamora                    85098.0\n",
      "Huesca                   124838.0\n",
      "Guadalajara              139373.0\n",
      "Ourense                  161821.0\n",
      "Lugo                     162422.0\n",
      "Cáceres                  176220.0\n",
      "Salamanca                197780.0\n",
      "Lleida                   199135.0\n",
      "La Rioja                 203911.0\n",
      "Burgos                   250766.0\n",
      "Álava                    266717.0\n",
      "Albacete                 280673.0\n",
      "León                     316662.0\n",
      "Toledo                   332751.0\n",
      "Ciudad Real              348364.0\n",
      "Badajoz                  361700.0\n",
      "Huelva                   361777.0\n",
      "Valladolid               372022.0\n",
      "Jaén                     426169.0\n",
      "Cantabria                437448.0\n",
      "Navarra                  440005.0\n",
      "Girona                   474739.0\n",
      "Castelló/Castellón       476388.0\n",
      "Guipúzcoa                546141.0\n",
      "Almería                  550604.0\n",
      "Córdoba                  590503.0\n",
      "Tarragona                598738.0\n",
      "Granada                  604357.0\n",
      "Zaragoza                 743312.0\n",
      "Pontevedra               794690.0\n",
      "A Coruña                 818982.0\n",
      "Asturias                 965777.0\n",
      "Vizcaya                  984560.0\n",
      "Santa Cruz de Tenerife   989964.0\n",
      "Illes Balears           1041183.0\n",
      "Cádiz                   1166531.0\n",
      "Las Palmas              1220407.0\n",
      "Murcia                  1599339.0\n",
      "Sevilla                 1671058.0\n",
      "Málaga                  1702839.0\n",
      "Alacant/Alicante        1804252.0\n",
      "València/Valencia       2189461.0\n",
      "Barcelona               4934795.0\n",
      "Madrid                  6315312.0\n"
     ]
    },
    {
     "data": {
      "image/png": "[encoded data removed]",
      "text/plain": [
       "<Figure size 640x480 with 1 Axes>"
      ]
     },
     "metadata": {},
     "output_type": "display_data"
    }
   ],
   "source": [
    "df_2 = df[[\"Poblacion\",\"Provincia\"]]\n",
    "df_2=df_2.groupby(by=[\"Provincia\"]).sum()\n",
    "df_2 = df_2.sort_values('Poblacion',ascending=False)\n",
    "df_3 = df_2.sort_values('Poblacion',ascending=True)\n",
    "df_3.head()\n",
    "\n",
    "\n",
    "print(df_3)\n",
    "array_values=np.array(df_2.values.tolist())\n",
    "list_values=np.reshape(array_values,-1).tolist()\n",
    "list_mun=df_2.index.values.tolist()\n",
    "\n",
    "array_1=np.array(list_values)\n",
    "array_1=np.reshape(array_1,(-1,1))\n",
    "pf2= pd.DataFrame(array_1,columns=[\"Población\"])\n",
    "pf2['Provincia']=list_mun\n",
    "\n",
    "#print(pf2)\n",
    "\n",
    "\n",
    "plt.xlabel('Provincia', fontsize=10)\n",
    "plt.bar(list_mun,list_values)\n",
    "plt.xticks(rotation = 90, fontsize=5)\n",
    "plt.show()"
   ]
  },
  {
   "attachments": {},
   "cell_type": "markdown",
   "metadata": {},
   "source": [
    "### EJERCICIO No.7\n",
    "\n",
    "\n",
    "Seleccione al azar cincuenta municipios diferentes de\n",
    "entre los diponibles en el archivo. Asegúrese de que no\n",
    "se repitan. ¿Luego calcule el promedio de la población y\n",
    "la desviación estándar de esto 50 municipios?."
   ]
  },
  {
   "cell_type": "code",
   "execution_count": 257,
   "metadata": {},
   "outputs": [
    {
     "name": "stdout",
     "output_type": "stream",
     "text": [
      "Media = 44527.44\n",
      "Desviación = 91372.49119818084\n"
     ]
    }
   ],
   "source": [
    "df_1=df.groupby(by=[\"Municipio\"]).sum()\n",
    "df_1=df_1.sample(n = 50)\n",
    "\n",
    "mean=df_1[\"Poblacion\"].mean()\n",
    "desv=df_1[\"Poblacion\"].std()\n",
    "\n",
    "print(f\"Media = {mean}\")\n",
    "print(f\"Desviación = {desv}\")\n"
   ]
  },
  {
   "attachments": {},
   "cell_type": "markdown",
   "metadata": {},
   "source": [
    "### EJERCICIO No.8\n",
    "\n",
    "\n",
    "Dígame los nombres de los Municipios más cercano y más\n",
    "lejano a Madrid. Para ello debe calcular la distancia en\n",
    "todos ellos y Madrid. No considere a Madrid en el\n",
    "análisis ya que la distancia sería cero."
   ]
  },
  {
   "cell_type": "code",
   "execution_count": 270,
   "metadata": {},
   "outputs": [
    {
     "name": "stdout",
     "output_type": "stream",
     "text": [
      "Los Municipios mas alejados de Madrid son:\n",
      "                  Municipio       dist\n",
      "29    Los Llanos de Aridane  18.444254\n",
      "35   Santa Cruz de la Palma  18.313373\n",
      "765                   Arona  17.949292\n",
      "764                   Adeje  17.948654\n",
      "21                    Adeje  17.913933\n",
      "..                      ...        ...\n",
      "726              Mollerussa   4.755044\n",
      "227    Vejer de la Frontera   4.740671\n",
      "91                     Lepe   4.716169\n",
      "724                Balaguer   4.713361\n",
      "734      Mont-roig del Camp   4.710964\n",
      "\n",
      "[272 rows x 2 columns]\n",
      "Los Municipios mas cercanos a Madrid son:\n",
      "                   Municipio      dist\n",
      "53   Chiclana de la Frontera  4.685237\n",
      "59              San Fernando  4.676523\n",
      "51                     Cádiz  4.672108\n",
      "87                   Cartaya  4.661631\n",
      "100                     Lugo  4.645134\n",
      "..                       ...       ...\n",
      "365       Pozuelo de Alarcón  0.113671\n",
      "354                  Leganés  0.105567\n",
      "781                  Leganés  0.096365\n",
      "780                   Getafe  0.095249\n",
      "783       Pozuelo de Alarcón  0.080970\n",
      "\n",
      "[579 rows x 2 columns]\n"
     ]
    },
    {
     "name": "stderr",
     "output_type": "stream",
     "text": [
      "C:\\Users\\OMEN\\AppData\\Local\\Temp\\ipykernel_10800\\3738167038.py:31: UserWarning: Boolean Series key will be reindexed to match DataFrame index.\n",
      "  df_2 = df[df['dist'] < mean_2][df['dist'] > 0][[\"Municipio\",\"dist\"]]\n"
     ]
    }
   ],
   "source": [
    "#df[\"X2\"]=df[\"X\"]*df[\"X\"]\n",
    "#df[\"Y2\"]=df[\"Y\"]*df[\"Y\"]\n",
    "#df[\"\"]\n",
    "\n",
    "df_1 = df[df['Municipio'] == \"Madrid\"][[\"X\",\"Y\"]]\n",
    "\n",
    "list_x_y_madrid=df_1.values.tolist()\n",
    "\n",
    "x=list_x_y_madrid[0][0]\n",
    "y=list_x_y_madrid[0][1]\n",
    "\n",
    "df[\"diffX2\"]=(df[\"X\"]-x)*(df[\"X\"]-x)\n",
    "df[\"diffY2\"]=(df[\"Y\"]-y)*(df[\"Y\"]-y)\n",
    "df[\"dist\"]=np.sqrt(df[\"diffX2\"]+df[\"diffY2\"])\n",
    "\n",
    "df = df.sort_values('dist',ascending=False)\n",
    "\n",
    "mean_2=df[\"dist\"].mean()\n",
    "\n",
    "\n",
    "#print(df[[\"dist\",\"Municipio\"]])\n",
    "\n",
    "print(\"Los Municipios mas alejados de Madrid son:\")\n",
    "\n",
    "df_1 = df[df['dist'] > mean_2][[\"Municipio\",\"dist\"]]\n",
    "\n",
    "print(df_1)\n",
    "\n",
    "print(\"Los Municipios mas cercanos a Madrid son:\")\n",
    "\n",
    "df_2 = df[df['dist'] < mean_2][df['dist'] > 0][[\"Municipio\",\"dist\"]]\n",
    "\n",
    "print(df_2)\n"
   ]
  }
 ],
 "metadata": {
  "kernelspec": {
   "display_name": "Python 3",
   "language": "python",
   "name": "python3"
  },
  "language_info": {
   "codemirror_mode": {
    "name": "ipython",
    "version": 3
   },
   "file_extension": ".py",
   "mimetype": "text/x-python",
   "name": "python",
   "nbconvert_exporter": "python",
   "pygments_lexer": "ipython3",
   "version": "3.9.13"
  },
  "orig_nbformat": 4
 },
 "nbformat": 4,
 "nbformat_minor": 2
}
