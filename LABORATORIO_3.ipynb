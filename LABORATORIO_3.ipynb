{
 "cells": [
  {
   "attachments": {},
   "cell_type": "markdown",
   "metadata": {},
   "source": [
    "# Laboratorio: Análisis de Datos con Python\n"
   ]
  },
  {
   "attachments": {},
   "cell_type": "markdown",
   "metadata": {},
   "source": [
    "## Parte 1: Numpy:"
   ]
  },
  {
   "cell_type": "code",
   "execution_count": 87,
   "metadata": {},
   "outputs": [],
   "source": [
    "import numpy as np\n",
    "import random"
   ]
  },
  {
   "attachments": {},
   "cell_type": "markdown",
   "metadata": {},
   "source": [
    "### PROBLEMA NO.1\n",
    "¿Cuál es el tamaño en bytes de un array de 1000\n",
    "elementos de tipo booleano?\n"
   ]
  },
  {
   "cell_type": "code",
   "execution_count": 88,
   "metadata": {},
   "outputs": [
    {
     "name": "stdout",
     "output_type": "stream",
     "text": [
      "El tamaño del array es de 1000 bytes\n"
     ]
    }
   ],
   "source": [
    "\n",
    "\n",
    "list=[]\n",
    "\n",
    "list_=[True,False]\n",
    "\n",
    "for i in range(1000):\n",
    "\n",
    "    val_1=random.choice(list_)\n",
    "\n",
    "    list.append(val_1)\n",
    "\n",
    "array_bool=np.array(list)\n",
    "\n",
    "print(f\"El tamaño del array es de {array_bool.nbytes} bytes\")\n",
    "\n",
    "\n"
   ]
  },
  {
   "attachments": {},
   "cell_type": "markdown",
   "metadata": {},
   "source": [
    "### PROBLEMA NO.2\n",
    "\n",
    "\n",
    "Cree un array cuyos elementos sean los enteros pares en\n",
    "[1,100] y en orden decreciente. Muestre los 10 últimos\n",
    "por pantalla."
   ]
  },
  {
   "cell_type": "code",
   "execution_count": 89,
   "metadata": {},
   "outputs": [
    {
     "data": {
      "text/plain": [
       "array([ 991,  992,  993,  994,  995,  996,  997,  998,  999, 1000])"
      ]
     },
     "execution_count": 89,
     "metadata": {},
     "output_type": "execute_result"
    }
   ],
   "source": [
    "list_ej2=[]\n",
    "\n",
    "for i in range(1,1001):\n",
    "\n",
    "    list_ej2.append(i)\n",
    "\n",
    "array_list=np.array(list_ej2)\n",
    "\n",
    "array_list[-10:]"
   ]
  },
  {
   "attachments": {},
   "cell_type": "markdown",
   "metadata": {},
   "source": [
    "### PROBLEMA NO.3\n",
    "\n",
    "Dado el array\n",
    "\n",
    "\n",
    "2 4 5 6\n",
    "\n",
    "0 3 7 4\n",
    "\n",
    "8 8 5 2\n",
    "\n",
    "1 5 6 1\n",
    "\n",
    "Seleccione con una instrucción el subarray de elementos\n",
    "\n",
    "0 3 7 4\n",
    "\n",
    "Después, seleccione el subarray de elementos\n",
    "\n",
    "2 5\n",
    "\n",
    "8 5\n"
   ]
  },
  {
   "cell_type": "code",
   "execution_count": 90,
   "metadata": {},
   "outputs": [
    {
     "name": "stdout",
     "output_type": "stream",
     "text": [
      "[[2 4 5 6]\n",
      " [0 3 7 4]\n",
      " [8 8 5 2]\n",
      " [1 5 6 1]]\n",
      "\n",
      "\n",
      "[0 3 7 4]\n",
      "\n",
      "\n",
      "[[2 5]\n",
      " [8 5]]\n"
     ]
    }
   ],
   "source": [
    "array_ej3=np.array([[2,4,5,6],[0,3,7,4],[8,8,5,2],[1,5,6,1]])\n",
    "\n",
    "print(array_ej3)\n",
    "\n",
    "print(\"\\n\")\n",
    "\n",
    "print(array_ej3[1,:])\n",
    "\n",
    "print(\"\\n\")\n",
    "\n",
    "array_1=array_ej3[[0,2],:][:,[0,2]]\n",
    "\n",
    "print(array_1)\n"
   ]
  },
  {
   "attachments": {},
   "cell_type": "markdown",
   "metadata": {},
   "source": [
    "### PROBLEMA NO.4\n",
    "\n",
    "Dados los arrays a = [1, 4, 2, 7] y b = [1, 3, 2, 9],\n",
    "obtenga la media aritmética de la diferencia (a-b).\n",
    "\n",
    "\n"
   ]
  },
  {
   "cell_type": "code",
   "execution_count": 91,
   "metadata": {},
   "outputs": [
    {
     "name": "stdout",
     "output_type": "stream",
     "text": [
      "[ 0  1  0 -2]\n",
      "-0.25\n"
     ]
    }
   ],
   "source": [
    "a=np.array([1,4,2,7])\n",
    "b=np.array([1,3,2,9])\n",
    "\n",
    "c=a-b\n",
    "print(c)\n",
    "\n",
    "media_=np.mean(c, axis=None, dtype=float)\n",
    "\n",
    "print(media_)"
   ]
  },
  {
   "attachments": {},
   "cell_type": "markdown",
   "metadata": {},
   "source": [
    "### PROBLEMA NO.5\n",
    "\n",
    "\n",
    "Tengo valores de cordenadas (x, y) en las columna del array\n",
    "\n",
    "1.33 4.5\n",
    "\n",
    "30.0 10.7\n",
    "\n",
    "70.2 0.5\n",
    "\n",
    "Agregue a este array las coordenadas (37.1, -3.6).\n",
    "\n",
    "Muestre en pantalla las dimensiones del nuevo\n",
    "array."
   ]
  },
  {
   "cell_type": "code",
   "execution_count": 92,
   "metadata": {},
   "outputs": [
    {
     "name": "stdout",
     "output_type": "stream",
     "text": [
      "[[37.1  -3.6 ]\n",
      " [ 1.33  4.5 ]\n",
      " [30.   10.7 ]\n",
      " [70.2   0.5 ]]\n",
      "\n",
      "\n",
      "(3, 2)\n"
     ]
    }
   ],
   "source": [
    "array_1=np.array([[1.33,4.5],[30,10.7],[70.2,0.5]])\n",
    "\n",
    "row = np.array([37.1,-3.6])\n",
    "row_n = 0 ##row\n",
    "arr = np.insert(array_1,row_n,[row],axis= 0)\n",
    "\n",
    "print(arr)\n",
    "\n",
    "dim_=np.shape(array_1)\n",
    "print(\"\\n\")\n",
    "\n",
    "print(dim_)\n"
   ]
  },
  {
   "attachments": {},
   "cell_type": "markdown",
   "metadata": {},
   "source": [
    "\n",
    "### PROBLEMA NO.6\n",
    "\n",
    "Copie el array del ejercicio anterior. Traspóngalo (.\n",
    "Agregue ahora dos nuevos pares de coordenadas: (10.8,\n",
    "3.0) y (35.8, 12.0)"
   ]
  },
  {
   "cell_type": "code",
   "execution_count": 93,
   "metadata": {},
   "outputs": [
    {
     "name": "stdout",
     "output_type": "stream",
     "text": [
      "[[37.1   1.33 30.   70.2 ]\n",
      " [-3.6   4.5  10.7   0.5 ]]\n",
      "\n",
      "\n",
      "[[37.1   1.33 30.   70.2  35.8  10.8 ]\n",
      " [-3.6   4.5  10.7   0.5  12.    3.  ]]\n"
     ]
    }
   ],
   "source": [
    "\n",
    "trans_=np.transpose(arr)\n",
    "print(trans_)\n",
    "print(\"\\n\")\n",
    "\n",
    "column_1 = np.array([10.8,3.0])\n",
    "column_n = arr.shape[1]+2 # la ultima columna\n",
    "trans_= np.insert(trans_,column_n,[column_1],axis= 1)\n",
    "\n",
    "column_2 = np.array([35.8,12.0])\n",
    "column_n = arr.shape[1]+2 # la ultima columna\n",
    "trans_ = np.insert(trans_,column_n,[column_2],axis= 1)\n",
    "\n",
    "print(trans_)"
   ]
  },
  {
   "attachments": {},
   "cell_type": "markdown",
   "metadata": {},
   "source": [
    "## Parte 2: Exploración y Minería de Datos:\n",
    "\n",
    "Con el dataset nucleospoblacion.csv adjunto al laboratorio,\n",
    "luego responda las siguientes preguntas usando pandas y\n",
    "matplotlib."
   ]
  },
  {
   "cell_type": "code",
   "execution_count": 95,
   "metadata": {},
   "outputs": [],
   "source": [
    "import numpy as np\n",
    "import random\n",
    "import pandas as pd"
   ]
  },
  {
   "cell_type": "code",
   "execution_count": 97,
   "metadata": {},
   "outputs": [
    {
     "name": "stdout",
     "output_type": "stream",
     "text": [
      "     FID  OBJECTID                           Texto  Poblacion  CodMun  \\\n",
      "0      0         1                         Agüimes    29431.0   35002   \n",
      "1      1         2                         Antigua    10458.0   35003   \n",
      "2      2         3                        Arrecife    58156.0   35004   \n",
      "3      3         4                          Arucas    36745.0   35006   \n",
      "4      4         5                          Gáldar    24473.0   35009   \n",
      "..   ...       ...                             ...        ...     ...   \n",
      "847  847       848             Infante Juan Manuel    14192.0   30030   \n",
      "848  848       849           Santa Maria de Gracia    13349.0   30030   \n",
      "849  849       850                    Vista Alegre    15208.0   30030   \n",
      "850  850       851  Poligono Sta M de Benquerencia    19177.0   45168   \n",
      "851  851       852                            Grao    16367.0   12040   \n",
      "\n",
      "                                      Municipio  CodProvin  \\\n",
      "0                                       Agüimes         35   \n",
      "1                                       Antigua         35   \n",
      "2                                      Arrecife         35   \n",
      "3                                        Arucas         35   \n",
      "4                                        Gáldar         35   \n",
      "..                                          ...        ...   \n",
      "847                                      Murcia         30   \n",
      "848                                      Murcia         30   \n",
      "849                                      Murcia         30   \n",
      "850                                      Toledo         45   \n",
      "851  Castellón de la Plana/Castelló de la Plana         12   \n",
      "\n",
      "              Provincia          X          Y  \n",
      "0            Las Palmas -15.446012  27.900542  \n",
      "1            Las Palmas -14.013301  28.418966  \n",
      "2            Las Palmas -13.551451  28.960649  \n",
      "3            Las Palmas -15.521512  28.117496  \n",
      "4            Las Palmas -15.654111  28.143873  \n",
      "..                  ...        ...        ...  \n",
      "847              Murcia  -1.124304  37.979033  \n",
      "848              Murcia  -1.202069  37.984024  \n",
      "849              Murcia  -1.130564  37.995715  \n",
      "850              Toledo  -3.948364  39.866699  \n",
      "851  Castelló/Castellón   0.012911  39.973568  \n",
      "\n",
      "[852 rows x 10 columns]\n"
     ]
    }
   ],
   "source": [
    "df = pd.read_csv ('NucleosPoblacion.csv')\n",
    "print(df)"
   ]
  },
  {
   "attachments": {},
   "cell_type": "markdown",
   "metadata": {},
   "source": [
    "### EJERCICIO No.1 \n",
    "\n",
    "¿Cuántos Municipios tienen más de 100000 habitantes?."
   ]
  },
  {
   "cell_type": "code",
   "execution_count": 104,
   "metadata": {},
   "outputs": [
    {
     "name": "stdout",
     "output_type": "stream",
     "text": [
      "hay 62 municipios que tienen mas de 100000 habitantes\n"
     ]
    }
   ],
   "source": [
    "df_1 = df[df['Poblacion'] > 100000]\n",
    "df_1.head()\n",
    "\n",
    "print(f\"hay {df_1.shape[0]} municipios que tienen mas de 100000 habitantes\")"
   ]
  },
  {
   "attachments": {},
   "cell_type": "markdown",
   "metadata": {},
   "source": [
    "### EJERCICIO No.2 \n",
    "\n",
    "Realice una gráfica de barras sobre la población de cada\n",
    "ciudad, ordenela de menor a mayo y responda:\n",
    "a. ¿Cuál es la segunda ciudad más poblada?\n",
    "b. ¿Qué posición ocupa Granada en el ranking de\n",
    "las ciudades más pobladas?"
   ]
  },
  {
   "cell_type": "code",
   "execution_count": null,
   "metadata": {},
   "outputs": [],
   "source": [
    "plt.hist(sample_data)"
   ]
  }
 ],
 "metadata": {
  "kernelspec": {
   "display_name": "Python 3",
   "language": "python",
   "name": "python3"
  },
  "language_info": {
   "codemirror_mode": {
    "name": "ipython",
    "version": 3
   },
   "file_extension": ".py",
   "mimetype": "text/x-python",
   "name": "python",
   "nbconvert_exporter": "python",
   "pygments_lexer": "ipython3",
   "version": "3.9.13"
  },
  "orig_nbformat": 4
 },
 "nbformat": 4,
 "nbformat_minor": 2
}
